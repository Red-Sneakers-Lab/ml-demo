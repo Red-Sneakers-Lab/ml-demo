{
  "nbformat": 4,
  "nbformat_minor": 0,
  "metadata": {
    "colab": {
      "name": "Untitled",
      "provenance": [],
      "collapsed_sections": [],
      "include_colab_link": true
    },
    "kernelspec": {
      "name": "python3",
      "display_name": "Python 3"
    }
  },
  "cells": [
    {
      "cell_type": "markdown",
      "metadata": {
        "id": "view-in-github",
        "colab_type": "text"
      },
      "source": [
        "<a href=\"https://colab.research.google.com/github/Red-Sneakers-Lab/ml-demo/blob/master/habr-ml-demo.ipynb\" target=\"_parent\"><img src=\"https://colab.research.google.com/assets/colab-badge.svg\" alt=\"Open In Colab\"/></a>"
      ]
    },
    {
      "cell_type": "code",
      "metadata": {
        "id": "e5YUps7gfA94",
        "colab_type": "code",
        "colab": {
          "base_uri": "https://localhost:8080/",
          "height": 102
        },
        "outputId": "364e7615-1e5b-4358-860a-54e28a51533c"
      },
      "source": [
        "import numpy as np\n",
        "\n",
        "# Сигмоида \n",
        "def nonlin(x,deriv=False):\n",
        "    if(deriv==True):\n",
        "        return nonlin(x)*(1-nonlin(x))\n",
        "    return 1/(1+np.exp(-x))\n",
        "    \n",
        "# набор входных данных\n",
        "X = np.array([  [0,0,1],\n",
        "                [0,1,1],\n",
        "                [1,0,1],\n",
        "                [1,1,1] ])\n",
        "    \n",
        "# выходные данные            \n",
        "y = np.array([[0,0,1,1]]).T\n",
        "\n",
        "# сделаем случайные числа более определёнными\n",
        "np.random.seed(1)\n",
        "\n",
        "# инициализируем веса случайным образом со средним 0\n",
        "syn0 = 2*np.random.random((3,1)) - 1\n",
        "\n",
        "for iter in range(10000):\n",
        "\n",
        "    # прямое распространение\n",
        "    l0 = X\n",
        "    l1 = nonlin(np.dot(l0,syn0))\n",
        "\n",
        "    # насколько мы ошиблись?\n",
        "    l1_error = y - l1\n",
        "\n",
        "    # перемножим это с наклоном сигмоиды \n",
        "    # на основе значений в l1\n",
        "    l1_delta = l1_error * nonlin(l1,True) # !!!\n",
        "\n",
        "    # обновим веса\n",
        "    syn0 += np.dot(l0.T,l1_delta) # !!!\n",
        "\n",
        "print(\"Выходные данные после тренировки:\")\n",
        "print(l1)"
      ],
      "execution_count": 5,
      "outputs": [
        {
          "output_type": "stream",
          "text": [
            "Выходные данные после тренировки:\n",
            "[[7.21568063e-04]\n",
            " [4.80986190e-04]\n",
            " [9.99592413e-01]\n",
            " [9.99388522e-01]]\n"
          ],
          "name": "stdout"
        }
      ]
    }
  ]
}