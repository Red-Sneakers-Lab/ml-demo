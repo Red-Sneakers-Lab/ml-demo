{
  "nbformat": 4,
  "nbformat_minor": 0,
  "metadata": {
    "colab": {
      "name": "Untitled",
      "provenance": [],
      "collapsed_sections": [],
      "include_colab_link": true
    },
    "kernelspec": {
      "name": "python3",
      "display_name": "Python 3"
    }
  },
  "cells": [
    {
      "cell_type": "markdown",
      "metadata": {
        "id": "view-in-github",
        "colab_type": "text"
      },
      "source": [
        "<a href=\"https://colab.research.google.com/github/Red-Sneakers-Lab/ml-demo/blob/master/ml-middle-demo.ipynb\" target=\"_parent\"><img src=\"https://colab.research.google.com/assets/colab-badge.svg\" alt=\"Open In Colab\"/></a>"
      ]
    },
    {
      "cell_type": "code",
      "metadata": {
        "id": "e5YUps7gfA94",
        "colab_type": "code",
        "colab": {
          "base_uri": "https://localhost:8080/",
          "height": 102
        },
        "outputId": "a0ff6f73-3229-41ef-b641-55d51ea766e0"
      },
      "source": [
        "import numpy as np\n",
        "\n",
        "# Сигмоида https://ru.wikipedia.org/wiki/%D0%A1%D0%B8%D0%B3%D0%BC%D0%BE%D0%B8%D0%B4%D0%B0\n",
        "def nonlin(x,deriv=False):\n",
        "    if(deriv==True):\n",
        "        return nonlin(x)*(1-nonlin(x))\n",
        "    return 1/(1+np.exp(-x))\n",
        "    \n",
        "# набор входных данных (массив это набор из 4х чисел среднее арифметическое которых мы ищем)\n",
        "# вместе они образубт матрицу которую легко умножать на коефициенты (должны быть 0.5 для каждого числа) что б получить матрицу ответов\n",
        "data = np.array([  [5,6,4,5],\n",
        "                [0,7,1,2],\n",
        "                [1,0,1,9],\n",
        "                [1,1,1,1] ])\n",
        "    \n",
        "# выходные данные\n",
        "# матрица ответов (.T - Транспонирование)\n",
        "result = np.array([[10,5,5.5,2]]).T\n",
        "\n",
        "# сделаем случайные числа более определёнными\n",
        "np.random.seed(1)\n",
        "\n",
        "# инициализируем веса случайным образом\n",
        "# матрица 4 * 1 с значениями [0, 1)\n",
        "factor = np.random.random((4,1))\n",
        "\n",
        "for iter in range(100000):\n",
        "    # умножаем матрицу на коефициенты\n",
        "    iteration_result = np.dot(data, factor)\n",
        "  \n",
        "    # насколько мы ошиблись\n",
        "    iteration_error = result - iteration_result\n",
        "\n",
        "    # сглажваем результат и умножаем на ошибку\n",
        "    iteration_delta = iteration_error * nonlin(iteration_result, True)\n",
        "\n",
        "    # обновим веса\n",
        "    factor += np.dot(data, iteration_delta) # !!!\n",
        "\n",
        "print(\"Коефициенты после тренировки:\")\n",
        "print(factor)"
      ],
      "execution_count": 56,
      "outputs": [
        {
          "output_type": "stream",
          "text": [
            "Коефициенты после тренировки:\n",
            "[[0.50035291]\n",
            " [0.50005786]\n",
            " [0.49958264]\n",
            " [0.50000656]]\n"
          ],
          "name": "stdout"
        }
      ]
    },
    {
      "cell_type": "code",
      "metadata": {
        "id": "vec57uyFqcoH",
        "colab_type": "code",
        "colab": {}
      },
      "source": [
        ""
      ],
      "execution_count": 0,
      "outputs": []
    }
  ]
}